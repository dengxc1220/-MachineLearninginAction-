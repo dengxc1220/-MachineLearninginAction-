{
 "cells": [
  {
   "cell_type": "markdown",
   "metadata": {},
   "source": [
    "KNN概述\n",
    "    #KNN就是采用测量不同特征值之间的距离，来进行分类\n",
    "    KNN的优缺点：\n",
    "        优点：精度高、对异常值不明感、无数据输入假定（不用过多数据处理）\n",
    "        缺点：计算复杂度高；空间复杂度高\n",
    "        使用数据范围：数值型和标称型\n",
    "    "
   ]
  }
 ],
 "metadata": {
  "kernelspec": {
   "display_name": "Python 3",
   "language": "python",
   "name": "python3"
  },
  "language_info": {
   "codemirror_mode": {
    "name": "ipython",
    "version": 3
   },
   "file_extension": ".py",
   "mimetype": "text/x-python",
   "name": "python",
   "nbconvert_exporter": "python",
   "pygments_lexer": "ipython3",
   "version": "3.7.0b5"
  }
 },
 "nbformat": 4,
 "nbformat_minor": 2
}
